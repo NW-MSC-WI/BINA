{
 "cells": [
  {
   "cell_type": "code",
   "execution_count": null,
   "metadata": {
    "vscode": {
     "languageId": "plaintext"
    }
   },
   "outputs": [],
   "source": [
    "# test_script.py\n",
    "\n",
    "def hello_world():\n",
    "    print(\"Hello, world!\")\n",
    "\n",
    "if __name__ == \"__main__\":\n",
    "    hello_world()"
   ]
  }
 ],
 "metadata": {
  "language_info": {
   "name": "python"
  }
 },
 "nbformat": 4,
 "nbformat_minor": 2
}
